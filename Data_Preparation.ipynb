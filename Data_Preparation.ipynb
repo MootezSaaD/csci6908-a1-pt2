{
  "nbformat": 4,
  "nbformat_minor": 0,
  "metadata": {
    "colab": {
      "provenance": []
    },
    "kernelspec": {
      "name": "python3",
      "display_name": "Python 3"
    },
    "language_info": {
      "name": "python"
    }
  },
  "cells": [
    {
      "cell_type": "code",
      "execution_count": null,
      "metadata": {
        "colab": {
          "base_uri": "https://localhost:8080/"
        },
        "id": "40bvo9WBNfhN",
        "outputId": "a62217ba-8641-439f-9b65-dbd5c0e9d1fd"
      },
      "outputs": [
        {
          "output_type": "stream",
          "name": "stdout",
          "text": [
            "Collecting mosestokenizer\n",
            "  Downloading mosestokenizer-1.2.1.tar.gz (37 kB)\n",
            "  Preparing metadata (setup.py) ... \u001b[?25l\u001b[?25hdone\n",
            "Collecting docopt (from mosestokenizer)\n",
            "  Downloading docopt-0.6.2.tar.gz (25 kB)\n",
            "  Preparing metadata (setup.py) ... \u001b[?25l\u001b[?25hdone\n",
            "Collecting openfile (from mosestokenizer)\n",
            "  Downloading openfile-0.0.7-py3-none-any.whl (2.4 kB)\n",
            "Collecting uctools (from mosestokenizer)\n",
            "  Downloading uctools-1.3.0.tar.gz (4.6 kB)\n",
            "  Preparing metadata (setup.py) ... \u001b[?25l\u001b[?25hdone\n",
            "Collecting toolwrapper (from mosestokenizer)\n",
            "  Downloading toolwrapper-2.1.0.tar.gz (3.2 kB)\n",
            "  Preparing metadata (setup.py) ... \u001b[?25l\u001b[?25hdone\n",
            "Building wheels for collected packages: mosestokenizer, docopt, toolwrapper, uctools\n",
            "  Building wheel for mosestokenizer (setup.py) ... \u001b[?25l\u001b[?25hdone\n",
            "  Created wheel for mosestokenizer: filename=mosestokenizer-1.2.1-py3-none-any.whl size=49170 sha256=d2b9259503cab19af0f03aa21151f458caeb024accdcf51dab9964b8907348ad\n",
            "  Stored in directory: /root/.cache/pip/wheels/80/d8/15/4c5ebbe883513f003cb055a0369c77c9df857023a706f39e70\n",
            "  Building wheel for docopt (setup.py) ... \u001b[?25l\u001b[?25hdone\n",
            "  Created wheel for docopt: filename=docopt-0.6.2-py2.py3-none-any.whl size=13706 sha256=6e88a4bcb72878d0ec1bd69980edcfed5a91cbe2b549ed0df34c9f6a3c7b3db3\n",
            "  Stored in directory: /root/.cache/pip/wheels/fc/ab/d4/5da2067ac95b36618c629a5f93f809425700506f72c9732fac\n",
            "  Building wheel for toolwrapper (setup.py) ... \u001b[?25l\u001b[?25hdone\n",
            "  Created wheel for toolwrapper: filename=toolwrapper-2.1.0-py3-none-any.whl size=3338 sha256=bd12865f20fc651bef1b864b6b56285c1f502e0c334c2e0824ad21b8975b9482\n",
            "  Stored in directory: /root/.cache/pip/wheels/e1/af/b1/99b57a06dda78fdcee86d2e22c64743f3b8df8f31cfc04baf7\n",
            "  Building wheel for uctools (setup.py) ... \u001b[?25l\u001b[?25hdone\n",
            "  Created wheel for uctools: filename=uctools-1.3.0-py3-none-any.whl size=6147 sha256=fca961c8144c4eae8fdb10e12c0e651368b09210c2782bd261a1f0faec84f967\n",
            "  Stored in directory: /root/.cache/pip/wheels/05/ee/10/33257b0801ac6a912c841939032c16da1eb3db377afe1443e5\n",
            "Successfully built mosestokenizer docopt toolwrapper uctools\n",
            "Installing collected packages: toolwrapper, openfile, docopt, uctools, mosestokenizer\n",
            "Successfully installed docopt-0.6.2 mosestokenizer-1.2.1 openfile-0.0.7 toolwrapper-2.1.0 uctools-1.3.0\n"
          ]
        }
      ],
      "source": [
        "!pip install mosestokenizer"
      ]
    },
    {
      "cell_type": "code",
      "source": [
        "from google.colab import drive\n",
        "drive.mount('/content/drive')"
      ],
      "metadata": {
        "colab": {
          "base_uri": "https://localhost:8080/"
        },
        "id": "9fr8mi6sIzy6",
        "outputId": "2ca7845e-fa22-4cae-9b34-94a5d32dac94"
      },
      "execution_count": null,
      "outputs": [
        {
          "output_type": "stream",
          "name": "stdout",
          "text": [
            "Mounted at /content/drive\n"
          ]
        }
      ]
    },
    {
      "cell_type": "markdown",
      "source": [
        "Assuming that a folder named `6809_a1_data` is created and contains the CSV file."
      ],
      "metadata": {
        "id": "BqH4iQ0MJcny"
      }
    },
    {
      "cell_type": "code",
      "source": [
        "import pandas as pd\n",
        "from collections import Counter\n",
        "from mosestokenizer import *\n",
        "from tqdm import tqdm\n",
        "import string\n",
        "import os, json"
      ],
      "metadata": {
        "id": "j08StEypJLSJ"
      },
      "execution_count": null,
      "outputs": []
    },
    {
      "cell_type": "code",
      "source": [
        "data_root = \"/content/drive/MyDrive/6809_a1_data\"\n",
        "csv_path = os.path.join(data_root, \"goodreads_data.csv\")\n",
        "english_sw = os.path.join(data_root, \"english\")"
      ],
      "metadata": {
        "id": "MYjdzNPfPt_b"
      },
      "execution_count": null,
      "outputs": []
    },
    {
      "cell_type": "code",
      "source": [
        "df = pd.read_csv(csv_path)"
      ],
      "metadata": {
        "id": "NtsjpCZuQAk2"
      },
      "execution_count": null,
      "outputs": []
    },
    {
      "cell_type": "code",
      "source": [
        "df"
      ],
      "metadata": {
        "colab": {
          "base_uri": "https://localhost:8080/",
          "height": 1000
        },
        "id": "5ilwzxYnQELv",
        "outputId": "2260f19d-088c-4ed4-b2e9-4d2ca7b32c4f"
      },
      "execution_count": null,
      "outputs": [
        {
          "output_type": "execute_result",
          "data": {
            "text/plain": [
              "      Unnamed: 0                                               Book  \\\n",
              "0              0                              To Kill a Mockingbird   \n",
              "1              1  Harry Potter and the Philosopher’s Stone (Harr...   \n",
              "2              2                                Pride and Prejudice   \n",
              "3              3                          The Diary of a Young Girl   \n",
              "4              4                                        Animal Farm   \n",
              "...          ...                                                ...   \n",
              "9995        9995                    Breeders (Breeders Trilogy, #1)   \n",
              "9996        9996                                             Dynamo   \n",
              "9997        9997                              The Republic of Trees   \n",
              "9998        9998                     Waking Up (Healing Hearts, #1)   \n",
              "9999        9999                 Bits and Pieces: Tales and Sonnets   \n",
              "\n",
              "                 Author                                        Description  \\\n",
              "0            Harper Lee  The unforgettable novel of a childhood in a sl...   \n",
              "1          J.K. Rowling  Harry Potter thinks he is an ordinary boy - un...   \n",
              "2           Jane Austen  Since its immediate success in 1813, Pride and...   \n",
              "3            Anne Frank  Discovered in the attic in which she spent the...   \n",
              "4         George Orwell  Librarian's note: There is an Alternate Cover ...   \n",
              "...                 ...                                                ...   \n",
              "9995     Ashley Quigley  How far would you go? If human society was gen...   \n",
              "9996  Eleanor Gustafson  Jeth Cavanaugh is searching for a new life alo...   \n",
              "9997         Sam Taylor  This dark fable tells the story of four Englis...   \n",
              "9998         Renee Dyer  For Adriana Monroe life couldn’t get any bette...   \n",
              "9999        Jas T. Ward  After demands of thousands of fans in various ...   \n",
              "\n",
              "                                                 Genres  Avg_Rating  \\\n",
              "0     ['Classics', 'Fiction', 'Historical Fiction', ...        4.27   \n",
              "1     ['Fantasy', 'Fiction', 'Young Adult', 'Magic',...        4.47   \n",
              "2     ['Classics', 'Fiction', 'Romance', 'Historical...        4.28   \n",
              "3     ['Classics', 'Nonfiction', 'History', 'Biograp...        4.18   \n",
              "4     ['Classics', 'Fiction', 'Dystopia', 'Fantasy',...        3.98   \n",
              "...                                                 ...         ...   \n",
              "9995  ['Dystopia', 'Science Fiction', 'Post Apocalyp...        3.44   \n",
              "9996                                                 []        4.23   \n",
              "9997  ['Fiction', 'Horror', 'Dystopia', 'Coming Of A...        3.29   \n",
              "9998  ['New Adult', 'Romance', 'Contemporary Romance...        4.13   \n",
              "9999                                                 []        5.00   \n",
              "\n",
              "     Num_Ratings                                                URL  \n",
              "0      5,691,311  https://www.goodreads.com/book/show/2657.To_Ki...  \n",
              "1      9,278,135  https://www.goodreads.com/book/show/72193.Harr...  \n",
              "2      3,944,155  https://www.goodreads.com/book/show/1885.Pride...  \n",
              "3      3,488,438  https://www.goodreads.com/book/show/48855.The_...  \n",
              "4      3,575,172  https://www.goodreads.com/book/show/170448.Ani...  \n",
              "...          ...                                                ...  \n",
              "9995         276  https://www.goodreads.com/book/show/22085400-b...  \n",
              "9996          60  https://www.goodreads.com/book/show/20862902-d...  \n",
              "9997         383  https://www.goodreads.com/book/show/891262.The...  \n",
              "9998         263  https://www.goodreads.com/book/show/19347252-w...  \n",
              "9999          36  https://www.goodreads.com/book/show/21302552-b...  \n",
              "\n",
              "[10000 rows x 8 columns]"
            ],
            "text/html": [
              "\n",
              "  <div id=\"df-12e38966-b446-428b-a31e-2a9646eada71\" class=\"colab-df-container\">\n",
              "    <div>\n",
              "<style scoped>\n",
              "    .dataframe tbody tr th:only-of-type {\n",
              "        vertical-align: middle;\n",
              "    }\n",
              "\n",
              "    .dataframe tbody tr th {\n",
              "        vertical-align: top;\n",
              "    }\n",
              "\n",
              "    .dataframe thead th {\n",
              "        text-align: right;\n",
              "    }\n",
              "</style>\n",
              "<table border=\"1\" class=\"dataframe\">\n",
              "  <thead>\n",
              "    <tr style=\"text-align: right;\">\n",
              "      <th></th>\n",
              "      <th>Unnamed: 0</th>\n",
              "      <th>Book</th>\n",
              "      <th>Author</th>\n",
              "      <th>Description</th>\n",
              "      <th>Genres</th>\n",
              "      <th>Avg_Rating</th>\n",
              "      <th>Num_Ratings</th>\n",
              "      <th>URL</th>\n",
              "    </tr>\n",
              "  </thead>\n",
              "  <tbody>\n",
              "    <tr>\n",
              "      <th>0</th>\n",
              "      <td>0</td>\n",
              "      <td>To Kill a Mockingbird</td>\n",
              "      <td>Harper Lee</td>\n",
              "      <td>The unforgettable novel of a childhood in a sl...</td>\n",
              "      <td>['Classics', 'Fiction', 'Historical Fiction', ...</td>\n",
              "      <td>4.27</td>\n",
              "      <td>5,691,311</td>\n",
              "      <td>https://www.goodreads.com/book/show/2657.To_Ki...</td>\n",
              "    </tr>\n",
              "    <tr>\n",
              "      <th>1</th>\n",
              "      <td>1</td>\n",
              "      <td>Harry Potter and the Philosopher’s Stone (Harr...</td>\n",
              "      <td>J.K. Rowling</td>\n",
              "      <td>Harry Potter thinks he is an ordinary boy - un...</td>\n",
              "      <td>['Fantasy', 'Fiction', 'Young Adult', 'Magic',...</td>\n",
              "      <td>4.47</td>\n",
              "      <td>9,278,135</td>\n",
              "      <td>https://www.goodreads.com/book/show/72193.Harr...</td>\n",
              "    </tr>\n",
              "    <tr>\n",
              "      <th>2</th>\n",
              "      <td>2</td>\n",
              "      <td>Pride and Prejudice</td>\n",
              "      <td>Jane Austen</td>\n",
              "      <td>Since its immediate success in 1813, Pride and...</td>\n",
              "      <td>['Classics', 'Fiction', 'Romance', 'Historical...</td>\n",
              "      <td>4.28</td>\n",
              "      <td>3,944,155</td>\n",
              "      <td>https://www.goodreads.com/book/show/1885.Pride...</td>\n",
              "    </tr>\n",
              "    <tr>\n",
              "      <th>3</th>\n",
              "      <td>3</td>\n",
              "      <td>The Diary of a Young Girl</td>\n",
              "      <td>Anne Frank</td>\n",
              "      <td>Discovered in the attic in which she spent the...</td>\n",
              "      <td>['Classics', 'Nonfiction', 'History', 'Biograp...</td>\n",
              "      <td>4.18</td>\n",
              "      <td>3,488,438</td>\n",
              "      <td>https://www.goodreads.com/book/show/48855.The_...</td>\n",
              "    </tr>\n",
              "    <tr>\n",
              "      <th>4</th>\n",
              "      <td>4</td>\n",
              "      <td>Animal Farm</td>\n",
              "      <td>George Orwell</td>\n",
              "      <td>Librarian's note: There is an Alternate Cover ...</td>\n",
              "      <td>['Classics', 'Fiction', 'Dystopia', 'Fantasy',...</td>\n",
              "      <td>3.98</td>\n",
              "      <td>3,575,172</td>\n",
              "      <td>https://www.goodreads.com/book/show/170448.Ani...</td>\n",
              "    </tr>\n",
              "    <tr>\n",
              "      <th>...</th>\n",
              "      <td>...</td>\n",
              "      <td>...</td>\n",
              "      <td>...</td>\n",
              "      <td>...</td>\n",
              "      <td>...</td>\n",
              "      <td>...</td>\n",
              "      <td>...</td>\n",
              "      <td>...</td>\n",
              "    </tr>\n",
              "    <tr>\n",
              "      <th>9995</th>\n",
              "      <td>9995</td>\n",
              "      <td>Breeders (Breeders Trilogy, #1)</td>\n",
              "      <td>Ashley Quigley</td>\n",
              "      <td>How far would you go? If human society was gen...</td>\n",
              "      <td>['Dystopia', 'Science Fiction', 'Post Apocalyp...</td>\n",
              "      <td>3.44</td>\n",
              "      <td>276</td>\n",
              "      <td>https://www.goodreads.com/book/show/22085400-b...</td>\n",
              "    </tr>\n",
              "    <tr>\n",
              "      <th>9996</th>\n",
              "      <td>9996</td>\n",
              "      <td>Dynamo</td>\n",
              "      <td>Eleanor Gustafson</td>\n",
              "      <td>Jeth Cavanaugh is searching for a new life alo...</td>\n",
              "      <td>[]</td>\n",
              "      <td>4.23</td>\n",
              "      <td>60</td>\n",
              "      <td>https://www.goodreads.com/book/show/20862902-d...</td>\n",
              "    </tr>\n",
              "    <tr>\n",
              "      <th>9997</th>\n",
              "      <td>9997</td>\n",
              "      <td>The Republic of Trees</td>\n",
              "      <td>Sam Taylor</td>\n",
              "      <td>This dark fable tells the story of four Englis...</td>\n",
              "      <td>['Fiction', 'Horror', 'Dystopia', 'Coming Of A...</td>\n",
              "      <td>3.29</td>\n",
              "      <td>383</td>\n",
              "      <td>https://www.goodreads.com/book/show/891262.The...</td>\n",
              "    </tr>\n",
              "    <tr>\n",
              "      <th>9998</th>\n",
              "      <td>9998</td>\n",
              "      <td>Waking Up (Healing Hearts, #1)</td>\n",
              "      <td>Renee Dyer</td>\n",
              "      <td>For Adriana Monroe life couldn’t get any bette...</td>\n",
              "      <td>['New Adult', 'Romance', 'Contemporary Romance...</td>\n",
              "      <td>4.13</td>\n",
              "      <td>263</td>\n",
              "      <td>https://www.goodreads.com/book/show/19347252-w...</td>\n",
              "    </tr>\n",
              "    <tr>\n",
              "      <th>9999</th>\n",
              "      <td>9999</td>\n",
              "      <td>Bits and Pieces: Tales and Sonnets</td>\n",
              "      <td>Jas T. Ward</td>\n",
              "      <td>After demands of thousands of fans in various ...</td>\n",
              "      <td>[]</td>\n",
              "      <td>5.00</td>\n",
              "      <td>36</td>\n",
              "      <td>https://www.goodreads.com/book/show/21302552-b...</td>\n",
              "    </tr>\n",
              "  </tbody>\n",
              "</table>\n",
              "<p>10000 rows × 8 columns</p>\n",
              "</div>\n",
              "    <div class=\"colab-df-buttons\">\n",
              "\n",
              "  <div class=\"colab-df-container\">\n",
              "    <button class=\"colab-df-convert\" onclick=\"convertToInteractive('df-12e38966-b446-428b-a31e-2a9646eada71')\"\n",
              "            title=\"Convert this dataframe to an interactive table.\"\n",
              "            style=\"display:none;\">\n",
              "\n",
              "  <svg xmlns=\"http://www.w3.org/2000/svg\" height=\"24px\" viewBox=\"0 -960 960 960\">\n",
              "    <path d=\"M120-120v-720h720v720H120Zm60-500h600v-160H180v160Zm220 220h160v-160H400v160Zm0 220h160v-160H400v160ZM180-400h160v-160H180v160Zm440 0h160v-160H620v160ZM180-180h160v-160H180v160Zm440 0h160v-160H620v160Z\"/>\n",
              "  </svg>\n",
              "    </button>\n",
              "\n",
              "  <style>\n",
              "    .colab-df-container {\n",
              "      display:flex;\n",
              "      gap: 12px;\n",
              "    }\n",
              "\n",
              "    .colab-df-convert {\n",
              "      background-color: #E8F0FE;\n",
              "      border: none;\n",
              "      border-radius: 50%;\n",
              "      cursor: pointer;\n",
              "      display: none;\n",
              "      fill: #1967D2;\n",
              "      height: 32px;\n",
              "      padding: 0 0 0 0;\n",
              "      width: 32px;\n",
              "    }\n",
              "\n",
              "    .colab-df-convert:hover {\n",
              "      background-color: #E2EBFA;\n",
              "      box-shadow: 0px 1px 2px rgba(60, 64, 67, 0.3), 0px 1px 3px 1px rgba(60, 64, 67, 0.15);\n",
              "      fill: #174EA6;\n",
              "    }\n",
              "\n",
              "    .colab-df-buttons div {\n",
              "      margin-bottom: 4px;\n",
              "    }\n",
              "\n",
              "    [theme=dark] .colab-df-convert {\n",
              "      background-color: #3B4455;\n",
              "      fill: #D2E3FC;\n",
              "    }\n",
              "\n",
              "    [theme=dark] .colab-df-convert:hover {\n",
              "      background-color: #434B5C;\n",
              "      box-shadow: 0px 1px 3px 1px rgba(0, 0, 0, 0.15);\n",
              "      filter: drop-shadow(0px 1px 2px rgba(0, 0, 0, 0.3));\n",
              "      fill: #FFFFFF;\n",
              "    }\n",
              "  </style>\n",
              "\n",
              "    <script>\n",
              "      const buttonEl =\n",
              "        document.querySelector('#df-12e38966-b446-428b-a31e-2a9646eada71 button.colab-df-convert');\n",
              "      buttonEl.style.display =\n",
              "        google.colab.kernel.accessAllowed ? 'block' : 'none';\n",
              "\n",
              "      async function convertToInteractive(key) {\n",
              "        const element = document.querySelector('#df-12e38966-b446-428b-a31e-2a9646eada71');\n",
              "        const dataTable =\n",
              "          await google.colab.kernel.invokeFunction('convertToInteractive',\n",
              "                                                    [key], {});\n",
              "        if (!dataTable) return;\n",
              "\n",
              "        const docLinkHtml = 'Like what you see? Visit the ' +\n",
              "          '<a target=\"_blank\" href=https://colab.research.google.com/notebooks/data_table.ipynb>data table notebook</a>'\n",
              "          + ' to learn more about interactive tables.';\n",
              "        element.innerHTML = '';\n",
              "        dataTable['output_type'] = 'display_data';\n",
              "        await google.colab.output.renderOutput(dataTable, element);\n",
              "        const docLink = document.createElement('div');\n",
              "        docLink.innerHTML = docLinkHtml;\n",
              "        element.appendChild(docLink);\n",
              "      }\n",
              "    </script>\n",
              "  </div>\n",
              "\n",
              "\n",
              "<div id=\"df-732a63eb-8106-4889-81aa-c822937c06dc\">\n",
              "  <button class=\"colab-df-quickchart\" onclick=\"quickchart('df-732a63eb-8106-4889-81aa-c822937c06dc')\"\n",
              "            title=\"Suggest charts\"\n",
              "            style=\"display:none;\">\n",
              "\n",
              "<svg xmlns=\"http://www.w3.org/2000/svg\" height=\"24px\"viewBox=\"0 0 24 24\"\n",
              "     width=\"24px\">\n",
              "    <g>\n",
              "        <path d=\"M19 3H5c-1.1 0-2 .9-2 2v14c0 1.1.9 2 2 2h14c1.1 0 2-.9 2-2V5c0-1.1-.9-2-2-2zM9 17H7v-7h2v7zm4 0h-2V7h2v10zm4 0h-2v-4h2v4z\"/>\n",
              "    </g>\n",
              "</svg>\n",
              "  </button>\n",
              "\n",
              "<style>\n",
              "  .colab-df-quickchart {\n",
              "      --bg-color: #E8F0FE;\n",
              "      --fill-color: #1967D2;\n",
              "      --hover-bg-color: #E2EBFA;\n",
              "      --hover-fill-color: #174EA6;\n",
              "      --disabled-fill-color: #AAA;\n",
              "      --disabled-bg-color: #DDD;\n",
              "  }\n",
              "\n",
              "  [theme=dark] .colab-df-quickchart {\n",
              "      --bg-color: #3B4455;\n",
              "      --fill-color: #D2E3FC;\n",
              "      --hover-bg-color: #434B5C;\n",
              "      --hover-fill-color: #FFFFFF;\n",
              "      --disabled-bg-color: #3B4455;\n",
              "      --disabled-fill-color: #666;\n",
              "  }\n",
              "\n",
              "  .colab-df-quickchart {\n",
              "    background-color: var(--bg-color);\n",
              "    border: none;\n",
              "    border-radius: 50%;\n",
              "    cursor: pointer;\n",
              "    display: none;\n",
              "    fill: var(--fill-color);\n",
              "    height: 32px;\n",
              "    padding: 0;\n",
              "    width: 32px;\n",
              "  }\n",
              "\n",
              "  .colab-df-quickchart:hover {\n",
              "    background-color: var(--hover-bg-color);\n",
              "    box-shadow: 0 1px 2px rgba(60, 64, 67, 0.3), 0 1px 3px 1px rgba(60, 64, 67, 0.15);\n",
              "    fill: var(--button-hover-fill-color);\n",
              "  }\n",
              "\n",
              "  .colab-df-quickchart-complete:disabled,\n",
              "  .colab-df-quickchart-complete:disabled:hover {\n",
              "    background-color: var(--disabled-bg-color);\n",
              "    fill: var(--disabled-fill-color);\n",
              "    box-shadow: none;\n",
              "  }\n",
              "\n",
              "  .colab-df-spinner {\n",
              "    border: 2px solid var(--fill-color);\n",
              "    border-color: transparent;\n",
              "    border-bottom-color: var(--fill-color);\n",
              "    animation:\n",
              "      spin 1s steps(1) infinite;\n",
              "  }\n",
              "\n",
              "  @keyframes spin {\n",
              "    0% {\n",
              "      border-color: transparent;\n",
              "      border-bottom-color: var(--fill-color);\n",
              "      border-left-color: var(--fill-color);\n",
              "    }\n",
              "    20% {\n",
              "      border-color: transparent;\n",
              "      border-left-color: var(--fill-color);\n",
              "      border-top-color: var(--fill-color);\n",
              "    }\n",
              "    30% {\n",
              "      border-color: transparent;\n",
              "      border-left-color: var(--fill-color);\n",
              "      border-top-color: var(--fill-color);\n",
              "      border-right-color: var(--fill-color);\n",
              "    }\n",
              "    40% {\n",
              "      border-color: transparent;\n",
              "      border-right-color: var(--fill-color);\n",
              "      border-top-color: var(--fill-color);\n",
              "    }\n",
              "    60% {\n",
              "      border-color: transparent;\n",
              "      border-right-color: var(--fill-color);\n",
              "    }\n",
              "    80% {\n",
              "      border-color: transparent;\n",
              "      border-right-color: var(--fill-color);\n",
              "      border-bottom-color: var(--fill-color);\n",
              "    }\n",
              "    90% {\n",
              "      border-color: transparent;\n",
              "      border-bottom-color: var(--fill-color);\n",
              "    }\n",
              "  }\n",
              "</style>\n",
              "\n",
              "  <script>\n",
              "    async function quickchart(key) {\n",
              "      const quickchartButtonEl =\n",
              "        document.querySelector('#' + key + ' button');\n",
              "      quickchartButtonEl.disabled = true;  // To prevent multiple clicks.\n",
              "      quickchartButtonEl.classList.add('colab-df-spinner');\n",
              "      try {\n",
              "        const charts = await google.colab.kernel.invokeFunction(\n",
              "            'suggestCharts', [key], {});\n",
              "      } catch (error) {\n",
              "        console.error('Error during call to suggestCharts:', error);\n",
              "      }\n",
              "      quickchartButtonEl.classList.remove('colab-df-spinner');\n",
              "      quickchartButtonEl.classList.add('colab-df-quickchart-complete');\n",
              "    }\n",
              "    (() => {\n",
              "      let quickchartButtonEl =\n",
              "        document.querySelector('#df-732a63eb-8106-4889-81aa-c822937c06dc button');\n",
              "      quickchartButtonEl.style.display =\n",
              "        google.colab.kernel.accessAllowed ? 'block' : 'none';\n",
              "    })();\n",
              "  </script>\n",
              "</div>\n",
              "\n",
              "  <div id=\"id_40615172-69bb-4e8b-ba6e-188bca31394a\">\n",
              "    <style>\n",
              "      .colab-df-generate {\n",
              "        background-color: #E8F0FE;\n",
              "        border: none;\n",
              "        border-radius: 50%;\n",
              "        cursor: pointer;\n",
              "        display: none;\n",
              "        fill: #1967D2;\n",
              "        height: 32px;\n",
              "        padding: 0 0 0 0;\n",
              "        width: 32px;\n",
              "      }\n",
              "\n",
              "      .colab-df-generate:hover {\n",
              "        background-color: #E2EBFA;\n",
              "        box-shadow: 0px 1px 2px rgba(60, 64, 67, 0.3), 0px 1px 3px 1px rgba(60, 64, 67, 0.15);\n",
              "        fill: #174EA6;\n",
              "      }\n",
              "\n",
              "      [theme=dark] .colab-df-generate {\n",
              "        background-color: #3B4455;\n",
              "        fill: #D2E3FC;\n",
              "      }\n",
              "\n",
              "      [theme=dark] .colab-df-generate:hover {\n",
              "        background-color: #434B5C;\n",
              "        box-shadow: 0px 1px 3px 1px rgba(0, 0, 0, 0.15);\n",
              "        filter: drop-shadow(0px 1px 2px rgba(0, 0, 0, 0.3));\n",
              "        fill: #FFFFFF;\n",
              "      }\n",
              "    </style>\n",
              "    <button class=\"colab-df-generate\" onclick=\"generateWithVariable('df')\"\n",
              "            title=\"Generate code using this dataframe.\"\n",
              "            style=\"display:none;\">\n",
              "\n",
              "  <svg xmlns=\"http://www.w3.org/2000/svg\" height=\"24px\"viewBox=\"0 0 24 24\"\n",
              "       width=\"24px\">\n",
              "    <path d=\"M7,19H8.4L18.45,9,17,7.55,7,17.6ZM5,21V16.75L18.45,3.32a2,2,0,0,1,2.83,0l1.4,1.43a1.91,1.91,0,0,1,.58,1.4,1.91,1.91,0,0,1-.58,1.4L9.25,21ZM18.45,9,17,7.55Zm-12,3A5.31,5.31,0,0,0,4.9,8.1,5.31,5.31,0,0,0,1,6.5,5.31,5.31,0,0,0,4.9,4.9,5.31,5.31,0,0,0,6.5,1,5.31,5.31,0,0,0,8.1,4.9,5.31,5.31,0,0,0,12,6.5,5.46,5.46,0,0,0,6.5,12Z\"/>\n",
              "  </svg>\n",
              "    </button>\n",
              "    <script>\n",
              "      (() => {\n",
              "      const buttonEl =\n",
              "        document.querySelector('#id_40615172-69bb-4e8b-ba6e-188bca31394a button.colab-df-generate');\n",
              "      buttonEl.style.display =\n",
              "        google.colab.kernel.accessAllowed ? 'block' : 'none';\n",
              "\n",
              "      buttonEl.onclick = () => {\n",
              "        google.colab.notebook.generateWithVariable('df');\n",
              "      }\n",
              "      })();\n",
              "    </script>\n",
              "  </div>\n",
              "\n",
              "    </div>\n",
              "  </div>\n"
            ],
            "application/vnd.google.colaboratory.intrinsic+json": {
              "type": "dataframe",
              "variable_name": "df",
              "summary": "{\n  \"name\": \"df\",\n  \"rows\": 10000,\n  \"fields\": [\n    {\n      \"column\": \"Unnamed: 0\",\n      \"properties\": {\n        \"dtype\": \"number\",\n        \"std\": 2886,\n        \"min\": 0,\n        \"max\": 9999,\n        \"num_unique_values\": 10000,\n        \"samples\": [\n          6252,\n          4684,\n          1731\n        ],\n        \"semantic_type\": \"\",\n        \"description\": \"\"\n      }\n    },\n    {\n      \"column\": \"Book\",\n      \"properties\": {\n        \"dtype\": \"string\",\n        \"num_unique_values\": 9871,\n        \"samples\": [\n          \"HOW TO SAY NO TO ANYTHING AND MEAN IT\",\n          \"Rejection Proof: How I Beat Fear and Became Invincible Through 100 Days of Rejection\",\n          \"Village Evenings Near Dikanka and Mirgorod\"\n        ],\n        \"semantic_type\": \"\",\n        \"description\": \"\"\n      }\n    },\n    {\n      \"column\": \"Author\",\n      \"properties\": {\n        \"dtype\": \"string\",\n        \"num_unique_values\": 6064,\n        \"samples\": [\n          \"Ryan White\",\n          \"Rachel Hartman\",\n          \"Jim Gaffigan\"\n        ],\n        \"semantic_type\": \"\",\n        \"description\": \"\"\n      }\n    },\n    {\n      \"column\": \"Description\",\n      \"properties\": {\n        \"dtype\": \"string\",\n        \"num_unique_values\": 9888,\n        \"samples\": [\n          \"What is leadership? What qualities do true leaders have? Can you learn to be a leader? These questions and more are answered. Described are the most common virtues of a leader and past and present examples.\",\n          \"Don\\u2019t face reality. Create reality!\\u00a0\\u00a0\\u00a0\\u00a0\\u00a0\\u00a0 \\nE-Squared\\n could best be described as a lab manual with simple experiments to prove once and for all that reality is malleable, that consciousness trumps matter, and that you shape your life with your mind. Rather than take it on faith, you are invited to conduct nine 48-hour experiments to prove there really is a positive, loving, totally hip force in the universe. Yes, you read that right. It says prove. \\u00a0\\u00a0\\u00a0\\u00a0\\u00a0 The experiments, each of which can be conducted with absolutely no money and very little time expenditure, demonstrate that spiritual principles are as dependable as gravity, as consistent as Newton\\u2019s\\u00a0laws of motion. For years, you\\u2019ve been hoping and praying that spiritual principles are true. Now, you can know. \\u00a0\\u00a0\\u00a0\\u00a0\\u00a0 E-Squared proves the following:\\u00a01.\\u00a0\\u00a0\\u00a0\\u00a0\\u00a0\\u00a0 There is an invisible energy force or field of infinite possibilities. 2.\\u00a0\\u00a0\\u00a0\\u00a0\\u00a0\\u00a0 You impact the field and draw from it according to your beliefs and expectations.\\u00a03.\\u00a0\\u00a0\\u00a0\\u00a0\\u00a0\\u00a0 You, too, are a field of energy.\\u00a04.\\u00a0\\u00a0\\u00a0\\u00a0\\u00a0\\u00a0 Whatever you focus on expands.\\u00a0\\u00a0 5.\\u00a0\\u00a0\\u00a0\\u00a0\\u00a0\\u00a0 Your connection to the field provides accurate and unlimited guidance.6.\\u00a0\\u00a0\\u00a0\\u00a0\\u00a0\\u00a0 Your thoughts and consciousness impact matter.\\u00a07.\\u00a0\\u00a0\\u00a0\\u00a0\\u00a0\\u00a0 Your thoughts and consciousness provide the scaffolding for your physical body.8.\\u00a0\\u00a0\\u00a0\\u00a0\\u00a0\\u00a0 You are connected to everything and everyone else in the universe. 9.\\u00a0\\u00a0\\u00a0\\u00a0\\u00a0\\u00a0 The universe is limitless, abundant, and strangely accommodating.\",\n          \"A rookie lawyer, crime mogul and junior reporter all converge in London's underworld of glamour, crime and greed. Set in a city rocked by corruption and tabloid excess, one of them is going to learn that sometimes in life you get more than you bargained forJukebox is Saira Viola's brilliant full length debut novel.\\\"A great amount has been done in literature over the years but every now and then someone comes along and shows us a completely different approach to the ancient art of the scribe . So hail Saira Viola and discover her twisted and beautiful imagination. Literature needs Saira Viola . Her writing is sharp direct and gripping. The latest research shows there is no one like her.\\\" Benjamin Zephaniah\\\" A fresh faced voice to herald in the apocalypse .Posers beware .This is the real deal.\\\" Jonathan Shaw\\\"Injecting musical prose into a dying genre and one sorely needing a shot in the arm .What Viola has proven is the great novel is not incompatible with virtuosic poetics.\\\"James Browning Kepple\\\"I enjoyed this piece's in-your-face quality.\\\"Robin Wyatt Dunn\\\"Guy Ritchie meets Martin Amis.......stunning.\\\"Betsy Reavley\"\n        ],\n        \"semantic_type\": \"\",\n        \"description\": \"\"\n      }\n    },\n    {\n      \"column\": \"Genres\",\n      \"properties\": {\n        \"dtype\": \"string\",\n        \"num_unique_values\": 8043,\n        \"samples\": [\n          \"['Fantasy', 'Romance', 'Time Travel', 'Christian Fiction', 'Young Adult', 'Christian Fantasy']\",\n          \"['Fantasy', 'Young Adult', 'Dystopia', 'Romance', 'Young Adult Fantasy', 'Fiction', 'Magic']\",\n          \"['Fiction', 'Classics', 'Romance', 'India', 'Novels', 'Indian Literature', 'Historical']\"\n        ],\n        \"semantic_type\": \"\",\n        \"description\": \"\"\n      }\n    },\n    {\n      \"column\": \"Avg_Rating\",\n      \"properties\": {\n        \"dtype\": \"number\",\n        \"std\": 0.33535860151509606,\n        \"min\": 0.0,\n        \"max\": 5.0,\n        \"num_unique_values\": 211,\n        \"samples\": [\n          3.9,\n          4.93,\n          3.24\n        ],\n        \"semantic_type\": \"\",\n        \"description\": \"\"\n      }\n    },\n    {\n      \"column\": \"Num_Ratings\",\n      \"properties\": {\n        \"dtype\": \"string\",\n        \"num_unique_values\": 7545,\n        \"samples\": [\n          \"10,144\",\n          \"295,059\",\n          \"25,501\"\n        ],\n        \"semantic_type\": \"\",\n        \"description\": \"\"\n      }\n    },\n    {\n      \"column\": \"URL\",\n      \"properties\": {\n        \"dtype\": \"string\",\n        \"num_unique_values\": 10000,\n        \"samples\": [\n          \"https://www.goodreads.com/book/show/53397.El_amor_las_mujeres_y_la_vida\",\n          \"https://www.goodreads.com/book/show/17262100-the-lowland\",\n          \"https://www.goodreads.com/book/show/35068432-i-ll-be-gone-in-the-dark\"\n        ],\n        \"semantic_type\": \"\",\n        \"description\": \"\"\n      }\n    }\n  ]\n}"
            }
          },
          "metadata": {},
          "execution_count": 7
        }
      ]
    },
    {
      "cell_type": "code",
      "source": [
        "genres = set()"
      ],
      "metadata": {
        "id": "6j9y5cj3YASz"
      },
      "execution_count": null,
      "outputs": []
    },
    {
      "cell_type": "code",
      "source": [
        "def transform_genre_to_lst(txt):\n",
        "  return txt.strip('][').replace(\"'\", \"\").split(', ')"
      ],
      "metadata": {
        "id": "BQJIjqf1Zdin"
      },
      "execution_count": null,
      "outputs": []
    },
    {
      "cell_type": "code",
      "source": [
        "genres_col = \"Genres\""
      ],
      "metadata": {
        "id": "iRxn1Tc5ZobJ"
      },
      "execution_count": null,
      "outputs": []
    },
    {
      "cell_type": "code",
      "source": [
        "for text in tqdm(df[genres_col]):\n",
        "  _genres = transform_genre_to_lst(text)\n",
        "  genres.update(_genres)"
      ],
      "metadata": {
        "colab": {
          "base_uri": "https://localhost:8080/"
        },
        "id": "kI4ywSeAZtH3",
        "outputId": "d869996d-67de-411f-d2a9-6c4cd0eb3a92"
      },
      "execution_count": null,
      "outputs": [
        {
          "output_type": "stream",
          "name": "stderr",
          "text": [
            "100%|██████████| 10000/10000 [00:00<00:00, 115135.45it/s]\n"
          ]
        }
      ]
    },
    {
      "cell_type": "code",
      "source": [
        "len(genres)"
      ],
      "metadata": {
        "colab": {
          "base_uri": "https://localhost:8080/"
        },
        "id": "u-6bXGHoWXwR",
        "outputId": "e5f88c38-b722-46bc-ad6e-c6a8e87fa481"
      },
      "execution_count": null,
      "outputs": [
        {
          "output_type": "execute_result",
          "data": {
            "text/plain": [
              "618"
            ]
          },
          "metadata": {},
          "execution_count": 12
        }
      ]
    },
    {
      "cell_type": "code",
      "source": [
        "genres2idx= {}"
      ],
      "metadata": {
        "id": "WAgBOiexbgTf"
      },
      "execution_count": null,
      "outputs": []
    },
    {
      "cell_type": "code",
      "source": [
        "for idx, g in enumerate(genres):\n",
        "  genres2idx[g] = idx"
      ],
      "metadata": {
        "id": "tnW3RqaZbjYf"
      },
      "execution_count": null,
      "outputs": []
    },
    {
      "cell_type": "code",
      "source": [
        "# Keeping stopwords because they can potentially appear in autcompletion.\n",
        "# E.g: Bob ate -> a, an ect."
      ],
      "metadata": {
        "id": "cudoOCd-QqX5"
      },
      "execution_count": null,
      "outputs": []
    },
    {
      "cell_type": "code",
      "source": [
        "def read_stopwords(file_path):\n",
        "    \"\"\"\n",
        "    Reads a list of stopwords from a file. Each line in the file should contain one stopword.\n",
        "\n",
        "    :param file_path: The path to the file containing the stopwords.\n",
        "    :return: A list of stopwords.\n",
        "    \"\"\"\n",
        "    stopwords = []\n",
        "    try:\n",
        "        with open(file_path, 'r') as file:\n",
        "            stopwords = [line.strip() for line in file.readlines()]\n",
        "    except FileNotFoundError:\n",
        "        print(f\"The file {file_path} was not found.\")\n",
        "    except Exception as e:\n",
        "        print(f\"An error occurred: {e}\")\n",
        "\n",
        "    return stopwords"
      ],
      "metadata": {
        "id": "tbY4YqTiXiST"
      },
      "execution_count": null,
      "outputs": []
    },
    {
      "cell_type": "code",
      "source": [
        "stop_words = read_stopwords(english_sw)"
      ],
      "metadata": {
        "id": "c-Kit45OXmFm"
      },
      "execution_count": null,
      "outputs": []
    },
    {
      "cell_type": "code",
      "source": [
        "# Initial vocab containing stopwords\n",
        "vocab = {i:w for i, w in enumerate(stop_words)}"
      ],
      "metadata": {
        "id": "5rSVkEGEYdW6"
      },
      "execution_count": null,
      "outputs": []
    },
    {
      "cell_type": "code",
      "source": [
        "len(vocab)"
      ],
      "metadata": {
        "colab": {
          "base_uri": "https://localhost:8080/"
        },
        "id": "CobK_tawYf85",
        "outputId": "79aac007-fb09-490f-b27a-84408de4b829"
      },
      "execution_count": null,
      "outputs": [
        {
          "output_type": "execute_result",
          "data": {
            "text/plain": [
              "179"
            ]
          },
          "metadata": {},
          "execution_count": 21
        }
      ]
    },
    {
      "cell_type": "code",
      "source": [
        "remaining_words = 5000 - len(vocab) - 1 # -1 for the UNK token that will added in the end."
      ],
      "metadata": {
        "id": "K2G7EvutZDQd"
      },
      "execution_count": null,
      "outputs": []
    },
    {
      "cell_type": "code",
      "source": [
        "def remove_punctuation_whitespace(text):\n",
        "    \"\"\"Remove punctuation and common whitespace characters from a piece of text.\"\"\"\n",
        "    # Define the punctuation and whitespace characters to remove\n",
        "    punctuation_and_whitespace = string.punctuation + '\\t\\n\\r'\n",
        "\n",
        "    if not isinstance(text, str):\n",
        "      text = str(text)\n",
        "\n",
        "    # Create a translation table that maps each character to None\n",
        "    translator = str.maketrans('', '',punctuation_and_whitespace)\n",
        "\n",
        "    # Translate the text using the translation table\n",
        "    return text.translate(translator)"
      ],
      "metadata": {
        "id": "MiDoEI9Td328"
      },
      "execution_count": null,
      "outputs": []
    },
    {
      "cell_type": "code",
      "source": [
        "def build_vocab(df, text_column, stop_words, num_words=5000):\n",
        "    # Initialize the tokenizer\n",
        "    tokenizer = MosesTokenizer()\n",
        "\n",
        "    # Tokenize each row and collect tokens in a list\n",
        "    all_tokens = []\n",
        "    for text in tqdm(df[text_column]):\n",
        "        text = remove_punctuation_whitespace(text).lower()\n",
        "        tokens = tokenizer(text)\n",
        "        all_tokens.extend(tokens)\n",
        "\n",
        "    # Count the frequency of each token\n",
        "    word_freq = Counter(all_tokens)\n",
        "\n",
        "    # Filter out the stop words and select the top num_words\n",
        "    filtered_words = [word for word in word_freq if word.lower() not in stop_words]\n",
        "    top_words = dict(Counter(filtered_words).most_common(num_words))\n",
        "\n",
        "    # Clean up the tokenizer to free memory\n",
        "    tokenizer.close()\n",
        "\n",
        "    return list(top_words.keys())"
      ],
      "metadata": {
        "id": "xySTKjj8ZV1c"
      },
      "execution_count": null,
      "outputs": []
    },
    {
      "cell_type": "code",
      "source": [
        "# Reserve last 1k and second to last 1k for test and dev.\n",
        "# Select the last 1000 rows for test\n",
        "test_df = df.iloc[-1000:]\n",
        "# Select the second last 1000 rows for development\n",
        "dev_df = df.iloc[-2000:-1000]\n",
        "# Select everything up to the second last 1000 rows for training\n",
        "train_df = df.iloc[:-2000]"
      ],
      "metadata": {
        "id": "1ArUSZaXa9TG"
      },
      "execution_count": null,
      "outputs": []
    },
    {
      "cell_type": "code",
      "source": [
        "test_df.to_csv(os.path.join(data_root, \"test.csv\"), index=None)\n",
        "dev_df.to_csv(os.path.join(data_root, \"dev.csv\"), index=None)"
      ],
      "metadata": {
        "id": "NuWCDhMpbyjn"
      },
      "execution_count": null,
      "outputs": []
    },
    {
      "cell_type": "code",
      "source": [
        "remaining_vocab = build_vocab(df, \"Description\", stop_words, remaining_words)"
      ],
      "metadata": {
        "colab": {
          "base_uri": "https://localhost:8080/"
        },
        "id": "XrKipJ3zcE9j",
        "outputId": "3d9c53fd-decb-44be-cce2-802242bba0bd"
      },
      "execution_count": null,
      "outputs": [
        {
          "output_type": "stream",
          "name": "stderr",
          "text": [
            "100%|██████████| 10000/10000 [00:04<00:00, 2370.11it/s]\n"
          ]
        }
      ]
    },
    {
      "cell_type": "code",
      "source": [
        "assert len(remaining_vocab) == remaining_words"
      ],
      "metadata": {
        "id": "eVsUsB7og-Gv"
      },
      "execution_count": null,
      "outputs": []
    },
    {
      "cell_type": "code",
      "source": [
        "range(len(vocab), len(remaining_vocab) + len(vocab))"
      ],
      "metadata": {
        "colab": {
          "base_uri": "https://localhost:8080/"
        },
        "id": "V53xFC9RhIhs",
        "outputId": "d59c4cb2-f9e7-448d-aef2-29b35e5a86f7"
      },
      "execution_count": null,
      "outputs": [
        {
          "output_type": "execute_result",
          "data": {
            "text/plain": [
              "range(178, 4999)"
            ]
          },
          "metadata": {},
          "execution_count": 29
        }
      ]
    },
    {
      "cell_type": "code",
      "source": [
        "end_idx_vocab = len(vocab) + 1"
      ],
      "metadata": {
        "id": "DmNVCueAiI_5"
      },
      "execution_count": null,
      "outputs": []
    },
    {
      "cell_type": "code",
      "source": [
        "_vocab = {i: remaining_vocab[end_idx_vocab - i] for i in range(len(vocab), len(remaining_vocab) + len(vocab))}"
      ],
      "metadata": {
        "id": "fS3FflAjhu3s"
      },
      "execution_count": null,
      "outputs": []
    },
    {
      "cell_type": "code",
      "source": [
        "final_vocab =  {**vocab, **_vocab}"
      ],
      "metadata": {
        "id": "3xLlGaO0h1VV"
      },
      "execution_count": null,
      "outputs": []
    },
    {
      "cell_type": "code",
      "source": [
        "len(final_vocab)"
      ],
      "metadata": {
        "colab": {
          "base_uri": "https://localhost:8080/"
        },
        "id": "EhnlXz02iTUM",
        "outputId": "7e0770ff-d3be-40c3-ef80-94ec060e49a6"
      },
      "execution_count": null,
      "outputs": [
        {
          "output_type": "execute_result",
          "data": {
            "text/plain": [
              "4999"
            ]
          },
          "metadata": {},
          "execution_count": 44
        }
      ]
    },
    {
      "cell_type": "code",
      "source": [
        "vocab2idx = {v:k for k,v in final_vocab.items()}"
      ],
      "metadata": {
        "id": "b77f7t0qiwtx"
      },
      "execution_count": null,
      "outputs": []
    },
    {
      "cell_type": "code",
      "source": [
        "len(vocab2idx)"
      ],
      "metadata": {
        "colab": {
          "base_uri": "https://localhost:8080/"
        },
        "id": "MqAYgpj1mFRx",
        "outputId": "9f33b444-bf8d-46be-9873-289cb710a581"
      },
      "execution_count": null,
      "outputs": [
        {
          "output_type": "execute_result",
          "data": {
            "text/plain": [
              "4999"
            ]
          },
          "metadata": {},
          "execution_count": 46
        }
      ]
    },
    {
      "cell_type": "code",
      "source": [
        "vocab2idx['<unk>'] = 5000"
      ],
      "metadata": {
        "id": "HPa9f2h3d23S"
      },
      "execution_count": null,
      "outputs": []
    },
    {
      "cell_type": "code",
      "source": [
        "len(vocab2idx)"
      ],
      "metadata": {
        "colab": {
          "base_uri": "https://localhost:8080/"
        },
        "id": "6YF_N9kV0G_v",
        "outputId": "6e744f2b-5eaa-407f-cd4d-c619dcf9380c"
      },
      "execution_count": null,
      "outputs": [
        {
          "output_type": "execute_result",
          "data": {
            "text/plain": [
              "5000"
            ]
          },
          "metadata": {},
          "execution_count": 78
        }
      ]
    },
    {
      "cell_type": "code",
      "source": [
        "def save_dict_as_json(data, file_path):\n",
        "    \"\"\"Save a dictionary as a JSON file.\n",
        "\n",
        "    Args:\n",
        "        data (dict): The dictionary to save.\n",
        "        file_path (str): The path to the file where to save the JSON data.\n",
        "    \"\"\"\n",
        "    with open(file_path, 'w', encoding='utf-8') as f:\n",
        "        json.dump(data, f, ensure_ascii=False, indent=4)"
      ],
      "metadata": {
        "id": "jb4eE3pUmIn5"
      },
      "execution_count": null,
      "outputs": []
    },
    {
      "cell_type": "code",
      "source": [
        "save_dict_as_json(final_vocab, os.path.join(data_root, \"vocab_2.json\"))"
      ],
      "metadata": {
        "id": "oo4LnIpNmdbL"
      },
      "execution_count": null,
      "outputs": []
    },
    {
      "cell_type": "code",
      "source": [
        "save_dict_as_json(vocab2idx, os.path.join(data_root, \"vocab2idx_2.json\"))"
      ],
      "metadata": {
        "id": "NHkHKbmDmv2k"
      },
      "execution_count": null,
      "outputs": []
    },
    {
      "cell_type": "code",
      "source": [
        "save_dict_as_json(genres2idx, os.path.join(data_root, \"genres2idx.json\"))"
      ],
      "metadata": {
        "id": "fzsRsbvkpGvU"
      },
      "execution_count": null,
      "outputs": []
    },
    {
      "cell_type": "code",
      "source": [
        "# Now will generate actual data to be fed to the model\n",
        "# We will create a tuple(list, int), were `list` contains a set of word ids from 1..n and `int` is n+1th word."
      ],
      "metadata": {
        "id": "QBk8wT25mzH6"
      },
      "execution_count": null,
      "outputs": []
    },
    {
      "cell_type": "code",
      "source": [
        "ctx_len = 20"
      ],
      "metadata": {
        "id": "2XbYPtPinMTf"
      },
      "execution_count": null,
      "outputs": []
    },
    {
      "cell_type": "code",
      "source": [
        "def create_ctx(lst, ctx_len):\n",
        "  pairs = []\n",
        "  for i in range(len(lst) - ctx_len):\n",
        "    ctx = lst[i: ctx_len + i]\n",
        "    next_word = lst[i + ctx_len]\n",
        "    pairs.append((ctx, next_word))\n",
        "\n",
        "  return pairs"
      ],
      "metadata": {
        "id": "_68GMM8hnYYh"
      },
      "execution_count": null,
      "outputs": []
    },
    {
      "cell_type": "code",
      "source": [
        "def build_pairs(df, text_column, vocab2idx, genres2idx, ctx_len=5):\n",
        "\n",
        "  tokenizer = MosesTokenizer()\n",
        "  all_pairs = []\n",
        "  genres_num = len(genres2idx)\n",
        "\n",
        "  for text in tqdm(df.itertuples()):\n",
        "      sample_genres = transform_genre_to_lst(text.Genres)\n",
        "      sample_genres_ids = list(map(lambda x: genres2idx[x], sample_genres))\n",
        "      sample_text = remove_punctuation_whitespace(text.Description).lower()\n",
        "      tokens = tokenizer(sample_text)\n",
        "      token_ids = [vocab2idx[t] if t in vocab2idx else 5000 for t in tokens]\n",
        "      pairs = create_ctx(token_ids, ctx_len)\n",
        "      for g_id in sample_genres_ids:\n",
        "        for pair in pairs:\n",
        "          new_pair = (pair) + (g_id, )\n",
        "          all_pairs.append(new_pair)\n",
        "\n",
        "  return all_pairs"
      ],
      "metadata": {
        "id": "jBlhRTCLpnau"
      },
      "execution_count": null,
      "outputs": []
    },
    {
      "cell_type": "code",
      "source": [
        "training_pairs = build_pairs(train_df, \"Description\", vocab2idx, genres2idx, ctx_len)"
      ],
      "metadata": {
        "colab": {
          "base_uri": "https://localhost:8080/"
        },
        "id": "tIiuwusBq__I",
        "outputId": "cf6d76cd-ea34-4788-e89d-12fb451673b8"
      },
      "execution_count": null,
      "outputs": [
        {
          "output_type": "stream",
          "name": "stderr",
          "text": [
            "8000it [00:08, 955.54it/s]\n"
          ]
        }
      ]
    },
    {
      "cell_type": "code",
      "source": [
        "len(training_pairs)"
      ],
      "metadata": {
        "colab": {
          "base_uri": "https://localhost:8080/"
        },
        "id": "A9n-0uMzrNzA",
        "outputId": "7f3aedf9-6711-4625-f768-92320c6bbaf0"
      },
      "execution_count": null,
      "outputs": [
        {
          "output_type": "execute_result",
          "data": {
            "text/plain": [
              "6926634"
            ]
          },
          "metadata": {},
          "execution_count": 70
        }
      ]
    },
    {
      "cell_type": "code",
      "source": [
        "testing_pairs = build_pairs(test_df, \"Description\", vocab2idx, genres2idx, ctx_len)"
      ],
      "metadata": {
        "colab": {
          "base_uri": "https://localhost:8080/"
        },
        "id": "J5VITtBWrUo4",
        "outputId": "cb948b3c-7796-4141-e01b-cbcbb714a309"
      },
      "execution_count": null,
      "outputs": [
        {
          "output_type": "stream",
          "name": "stderr",
          "text": [
            "1000it [00:00, 1699.06it/s]\n"
          ]
        }
      ]
    },
    {
      "cell_type": "code",
      "source": [
        "dev_pairs = build_pairs(dev_df, \"Description\", vocab2idx, genres2idx, ctx_len)"
      ],
      "metadata": {
        "colab": {
          "base_uri": "https://localhost:8080/"
        },
        "id": "1vPCfkgErvml",
        "outputId": "f67b228b-02b6-45e4-dba2-e14e7a66923e"
      },
      "execution_count": null,
      "outputs": [
        {
          "output_type": "stream",
          "name": "stderr",
          "text": [
            "1000it [00:00, 1682.58it/s]\n"
          ]
        }
      ]
    },
    {
      "cell_type": "code",
      "source": [
        "len(testing_pairs)"
      ],
      "metadata": {
        "colab": {
          "base_uri": "https://localhost:8080/"
        },
        "id": "6JGcEuonr3V3",
        "outputId": "3e8f9449-2bbc-4ce7-ec59-8924acbc14ef"
      },
      "execution_count": null,
      "outputs": [
        {
          "output_type": "execute_result",
          "data": {
            "text/plain": [
              "486880"
            ]
          },
          "metadata": {},
          "execution_count": 73
        }
      ]
    },
    {
      "cell_type": "code",
      "source": [
        "len(dev_pairs)"
      ],
      "metadata": {
        "colab": {
          "base_uri": "https://localhost:8080/"
        },
        "id": "hRnp3z40sgAo",
        "outputId": "919a7d9b-eced-4965-9bb2-3753f2e01739"
      },
      "execution_count": null,
      "outputs": [
        {
          "output_type": "execute_result",
          "data": {
            "text/plain": [
              "789217"
            ]
          },
          "metadata": {},
          "execution_count": 74
        }
      ]
    },
    {
      "cell_type": "markdown",
      "source": [
        "Saving the dataset files for later use if needed."
      ],
      "metadata": {
        "id": "6eoOzWf_J48X"
      }
    },
    {
      "cell_type": "code",
      "source": [
        "import pickle\n",
        "\n",
        "def save_list_as_pickle(data, file_path):\n",
        "    \"\"\"Save a list as a pickle file.\n",
        "\n",
        "    Args:\n",
        "        data (list): The list to save.\n",
        "        file_path (str): The path to the file where to save the pickle data.\n",
        "    \"\"\"\n",
        "    with open(file_path, 'wb') as file:\n",
        "        pickle.dump(data, file)"
      ],
      "metadata": {
        "id": "Bsn7g0Dasic3"
      },
      "execution_count": null,
      "outputs": []
    },
    {
      "cell_type": "code",
      "source": [
        "save_list_as_pickle(training_pairs, os.path.join(data_root, \"train_2.pkl\"))\n",
        "save_list_as_pickle(testing_pairs, os.path.join(data_root, \"test_2.pkl\"))\n",
        "save_list_as_pickle(dev_pairs, os.path.join(data_root, \"dev_2.pkl\"))"
      ],
      "metadata": {
        "id": "t0VbiR_Osn9M"
      },
      "execution_count": null,
      "outputs": []
    }
  ]
}